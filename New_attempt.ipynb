{
  "nbformat": 4,
  "nbformat_minor": 0,
  "metadata": {
    "colab": {
      "name": "New_attempt.ipynb",
      "provenance": [],
      "collapsed_sections": []
    },
    "kernelspec": {
      "name": "python3",
      "display_name": "Python 3"
    }
  },
  "cells": [
    {
      "cell_type": "code",
      "metadata": {
        "id": "D_D8xAeMY9D9",
        "colab_type": "code",
        "outputId": "70d3732d-768a-430c-9921-349aab4a238d",
        "colab": {
          "base_uri": "https://localhost:8080/",
          "height": 34
        }
      },
      "source": [
        "#Mounting the google Drive\n",
        "from google.colab import drive\n",
        "drive.mount('/content/drive')\n"
      ],
      "execution_count": 29,
      "outputs": [
        {
          "output_type": "stream",
          "text": [
            "Drive already mounted at /content/drive; to attempt to forcibly remount, call drive.mount(\"/content/drive\", force_remount=True).\n"
          ],
          "name": "stdout"
        }
      ]
    },
    {
      "cell_type": "code",
      "metadata": {
        "id": "frlaaNFHZFNs",
        "colab_type": "code",
        "colab": {}
      },
      "source": [
        "\n",
        "%cd drive/My\\ Drive"
      ],
      "execution_count": 0,
      "outputs": []
    },
    {
      "cell_type": "code",
      "metadata": {
        "id": "HzSBxy05ZXbi",
        "colab_type": "code",
        "colab": {}
      },
      "source": [
        "#importing the Data\n",
        "import pandas as pd\n",
        "df=pd.read_csv('Chicago_Crimes_2012_to_2017.csv')\n",
        "bf=pd.read_csv('Chicago_Crimes_2012_to_2017.csv')"
      ],
      "execution_count": 0,
      "outputs": []
    },
    {
      "cell_type": "code",
      "metadata": {
        "id": "xpatWy1AZpWf",
        "colab_type": "code",
        "outputId": "1ee8575e-ae9b-4e30-860c-9e3cb8da8535",
        "colab": {
          "base_uri": "https://localhost:8080/",
          "height": 34
        }
      },
      "source": [
        "\n",
        "#removing null values and dropping columns\n",
        "dfn=df.dropna(axis=0,how='any')\n",
        "print(len(dfn))"
      ],
      "execution_count": 34,
      "outputs": [
        {
          "output_type": "stream",
          "text": [
            "1418365\n"
          ],
          "name": "stdout"
        }
      ]
    },
    {
      "cell_type": "code",
      "metadata": {
        "id": "H9Xoqa-KZrHQ",
        "colab_type": "code",
        "outputId": "75fbf711-0d64-45e7-f8a7-e644525f8818",
        "colab": {
          "base_uri": "https://localhost:8080/",
          "height": 417
        }
      },
      "source": [
        "dfn.head()"
      ],
      "execution_count": 35,
      "outputs": [
        {
          "output_type": "execute_result",
          "data": {
            "text/html": [
              "<div>\n",
              "<style scoped>\n",
              "    .dataframe tbody tr th:only-of-type {\n",
              "        vertical-align: middle;\n",
              "    }\n",
              "\n",
              "    .dataframe tbody tr th {\n",
              "        vertical-align: top;\n",
              "    }\n",
              "\n",
              "    .dataframe thead th {\n",
              "        text-align: right;\n",
              "    }\n",
              "</style>\n",
              "<table border=\"1\" class=\"dataframe\">\n",
              "  <thead>\n",
              "    <tr style=\"text-align: right;\">\n",
              "      <th></th>\n",
              "      <th>Unnamed: 0</th>\n",
              "      <th>ID</th>\n",
              "      <th>Case Number</th>\n",
              "      <th>Date</th>\n",
              "      <th>Block</th>\n",
              "      <th>IUCR</th>\n",
              "      <th>Primary Type</th>\n",
              "      <th>Description</th>\n",
              "      <th>Location Description</th>\n",
              "      <th>Arrest</th>\n",
              "      <th>Domestic</th>\n",
              "      <th>Beat</th>\n",
              "      <th>District</th>\n",
              "      <th>Ward</th>\n",
              "      <th>Community Area</th>\n",
              "      <th>FBI Code</th>\n",
              "      <th>X Coordinate</th>\n",
              "      <th>Y Coordinate</th>\n",
              "      <th>Year</th>\n",
              "      <th>Updated On</th>\n",
              "      <th>Latitude</th>\n",
              "      <th>Longitude</th>\n",
              "      <th>Location</th>\n",
              "    </tr>\n",
              "  </thead>\n",
              "  <tbody>\n",
              "    <tr>\n",
              "      <th>0</th>\n",
              "      <td>3</td>\n",
              "      <td>10508693</td>\n",
              "      <td>HZ250496</td>\n",
              "      <td>05/03/2016 11:40:00 PM</td>\n",
              "      <td>013XX S SAWYER AVE</td>\n",
              "      <td>0486</td>\n",
              "      <td>BATTERY</td>\n",
              "      <td>DOMESTIC BATTERY SIMPLE</td>\n",
              "      <td>APARTMENT</td>\n",
              "      <td>True</td>\n",
              "      <td>True</td>\n",
              "      <td>1022</td>\n",
              "      <td>10.0</td>\n",
              "      <td>24.0</td>\n",
              "      <td>29.0</td>\n",
              "      <td>08B</td>\n",
              "      <td>1154907.0</td>\n",
              "      <td>1893681.0</td>\n",
              "      <td>2016</td>\n",
              "      <td>05/10/2016 03:56:50 PM</td>\n",
              "      <td>41.864073</td>\n",
              "      <td>-87.706819</td>\n",
              "      <td>(41.864073157, -87.706818608)</td>\n",
              "    </tr>\n",
              "    <tr>\n",
              "      <th>1</th>\n",
              "      <td>89</td>\n",
              "      <td>10508695</td>\n",
              "      <td>HZ250409</td>\n",
              "      <td>05/03/2016 09:40:00 PM</td>\n",
              "      <td>061XX S DREXEL AVE</td>\n",
              "      <td>0486</td>\n",
              "      <td>BATTERY</td>\n",
              "      <td>DOMESTIC BATTERY SIMPLE</td>\n",
              "      <td>RESIDENCE</td>\n",
              "      <td>False</td>\n",
              "      <td>True</td>\n",
              "      <td>313</td>\n",
              "      <td>3.0</td>\n",
              "      <td>20.0</td>\n",
              "      <td>42.0</td>\n",
              "      <td>08B</td>\n",
              "      <td>1183066.0</td>\n",
              "      <td>1864330.0</td>\n",
              "      <td>2016</td>\n",
              "      <td>05/10/2016 03:56:50 PM</td>\n",
              "      <td>41.782922</td>\n",
              "      <td>-87.604363</td>\n",
              "      <td>(41.782921527, -87.60436317)</td>\n",
              "    </tr>\n",
              "    <tr>\n",
              "      <th>2</th>\n",
              "      <td>197</td>\n",
              "      <td>10508697</td>\n",
              "      <td>HZ250503</td>\n",
              "      <td>05/03/2016 11:31:00 PM</td>\n",
              "      <td>053XX W CHICAGO AVE</td>\n",
              "      <td>0470</td>\n",
              "      <td>PUBLIC PEACE VIOLATION</td>\n",
              "      <td>RECKLESS CONDUCT</td>\n",
              "      <td>STREET</td>\n",
              "      <td>False</td>\n",
              "      <td>False</td>\n",
              "      <td>1524</td>\n",
              "      <td>15.0</td>\n",
              "      <td>37.0</td>\n",
              "      <td>25.0</td>\n",
              "      <td>24</td>\n",
              "      <td>1140789.0</td>\n",
              "      <td>1904819.0</td>\n",
              "      <td>2016</td>\n",
              "      <td>05/10/2016 03:56:50 PM</td>\n",
              "      <td>41.894908</td>\n",
              "      <td>-87.758372</td>\n",
              "      <td>(41.894908283, -87.758371958)</td>\n",
              "    </tr>\n",
              "    <tr>\n",
              "      <th>3</th>\n",
              "      <td>673</td>\n",
              "      <td>10508698</td>\n",
              "      <td>HZ250424</td>\n",
              "      <td>05/03/2016 10:10:00 PM</td>\n",
              "      <td>049XX W FULTON ST</td>\n",
              "      <td>0460</td>\n",
              "      <td>BATTERY</td>\n",
              "      <td>SIMPLE</td>\n",
              "      <td>SIDEWALK</td>\n",
              "      <td>False</td>\n",
              "      <td>False</td>\n",
              "      <td>1532</td>\n",
              "      <td>15.0</td>\n",
              "      <td>28.0</td>\n",
              "      <td>25.0</td>\n",
              "      <td>08B</td>\n",
              "      <td>1143223.0</td>\n",
              "      <td>1901475.0</td>\n",
              "      <td>2016</td>\n",
              "      <td>05/10/2016 03:56:50 PM</td>\n",
              "      <td>41.885687</td>\n",
              "      <td>-87.749516</td>\n",
              "      <td>(41.885686845, -87.749515983)</td>\n",
              "    </tr>\n",
              "    <tr>\n",
              "      <th>4</th>\n",
              "      <td>911</td>\n",
              "      <td>10508699</td>\n",
              "      <td>HZ250455</td>\n",
              "      <td>05/03/2016 10:00:00 PM</td>\n",
              "      <td>003XX N LOTUS AVE</td>\n",
              "      <td>0820</td>\n",
              "      <td>THEFT</td>\n",
              "      <td>$500 AND UNDER</td>\n",
              "      <td>RESIDENCE</td>\n",
              "      <td>False</td>\n",
              "      <td>True</td>\n",
              "      <td>1523</td>\n",
              "      <td>15.0</td>\n",
              "      <td>28.0</td>\n",
              "      <td>25.0</td>\n",
              "      <td>06</td>\n",
              "      <td>1139890.0</td>\n",
              "      <td>1901675.0</td>\n",
              "      <td>2016</td>\n",
              "      <td>05/10/2016 03:56:50 PM</td>\n",
              "      <td>41.886297</td>\n",
              "      <td>-87.761751</td>\n",
              "      <td>(41.886297242, -87.761750709)</td>\n",
              "    </tr>\n",
              "  </tbody>\n",
              "</table>\n",
              "</div>"
            ],
            "text/plain": [
              "   Unnamed: 0        ID  ...  Longitude                       Location\n",
              "0           3  10508693  ... -87.706819  (41.864073157, -87.706818608)\n",
              "1          89  10508695  ... -87.604363   (41.782921527, -87.60436317)\n",
              "2         197  10508697  ... -87.758372  (41.894908283, -87.758371958)\n",
              "3         673  10508698  ... -87.749516  (41.885686845, -87.749515983)\n",
              "4         911  10508699  ... -87.761751  (41.886297242, -87.761750709)\n",
              "\n",
              "[5 rows x 23 columns]"
            ]
          },
          "metadata": {
            "tags": []
          },
          "execution_count": 35
        }
      ]
    },
    {
      "cell_type": "code",
      "metadata": {
        "id": "rBPRPx6fZxXr",
        "colab_type": "code",
        "outputId": "b6415fa5-ac74-4d8f-a4bc-42a011a49199",
        "colab": {
          "base_uri": "https://localhost:8080/",
          "height": 206
        }
      },
      "source": [
        "dfn=dfn.drop(['Latitude','Longitude','Description','ID','Case Number','Arrest','Community Area','FBI Code','Updated On','Location','X Coordinate','Y Coordinate'],axis=1)\n",
        "dfn=dfn.drop(df.columns[0],axis=1)\n",
        "dfn.head()\n"
      ],
      "execution_count": 36,
      "outputs": [
        {
          "output_type": "execute_result",
          "data": {
            "text/html": [
              "<div>\n",
              "<style scoped>\n",
              "    .dataframe tbody tr th:only-of-type {\n",
              "        vertical-align: middle;\n",
              "    }\n",
              "\n",
              "    .dataframe tbody tr th {\n",
              "        vertical-align: top;\n",
              "    }\n",
              "\n",
              "    .dataframe thead th {\n",
              "        text-align: right;\n",
              "    }\n",
              "</style>\n",
              "<table border=\"1\" class=\"dataframe\">\n",
              "  <thead>\n",
              "    <tr style=\"text-align: right;\">\n",
              "      <th></th>\n",
              "      <th>Date</th>\n",
              "      <th>Block</th>\n",
              "      <th>IUCR</th>\n",
              "      <th>Primary Type</th>\n",
              "      <th>Location Description</th>\n",
              "      <th>Domestic</th>\n",
              "      <th>Beat</th>\n",
              "      <th>District</th>\n",
              "      <th>Ward</th>\n",
              "      <th>Year</th>\n",
              "    </tr>\n",
              "  </thead>\n",
              "  <tbody>\n",
              "    <tr>\n",
              "      <th>0</th>\n",
              "      <td>05/03/2016 11:40:00 PM</td>\n",
              "      <td>013XX S SAWYER AVE</td>\n",
              "      <td>0486</td>\n",
              "      <td>BATTERY</td>\n",
              "      <td>APARTMENT</td>\n",
              "      <td>True</td>\n",
              "      <td>1022</td>\n",
              "      <td>10.0</td>\n",
              "      <td>24.0</td>\n",
              "      <td>2016</td>\n",
              "    </tr>\n",
              "    <tr>\n",
              "      <th>1</th>\n",
              "      <td>05/03/2016 09:40:00 PM</td>\n",
              "      <td>061XX S DREXEL AVE</td>\n",
              "      <td>0486</td>\n",
              "      <td>BATTERY</td>\n",
              "      <td>RESIDENCE</td>\n",
              "      <td>True</td>\n",
              "      <td>313</td>\n",
              "      <td>3.0</td>\n",
              "      <td>20.0</td>\n",
              "      <td>2016</td>\n",
              "    </tr>\n",
              "    <tr>\n",
              "      <th>2</th>\n",
              "      <td>05/03/2016 11:31:00 PM</td>\n",
              "      <td>053XX W CHICAGO AVE</td>\n",
              "      <td>0470</td>\n",
              "      <td>PUBLIC PEACE VIOLATION</td>\n",
              "      <td>STREET</td>\n",
              "      <td>False</td>\n",
              "      <td>1524</td>\n",
              "      <td>15.0</td>\n",
              "      <td>37.0</td>\n",
              "      <td>2016</td>\n",
              "    </tr>\n",
              "    <tr>\n",
              "      <th>3</th>\n",
              "      <td>05/03/2016 10:10:00 PM</td>\n",
              "      <td>049XX W FULTON ST</td>\n",
              "      <td>0460</td>\n",
              "      <td>BATTERY</td>\n",
              "      <td>SIDEWALK</td>\n",
              "      <td>False</td>\n",
              "      <td>1532</td>\n",
              "      <td>15.0</td>\n",
              "      <td>28.0</td>\n",
              "      <td>2016</td>\n",
              "    </tr>\n",
              "    <tr>\n",
              "      <th>4</th>\n",
              "      <td>05/03/2016 10:00:00 PM</td>\n",
              "      <td>003XX N LOTUS AVE</td>\n",
              "      <td>0820</td>\n",
              "      <td>THEFT</td>\n",
              "      <td>RESIDENCE</td>\n",
              "      <td>True</td>\n",
              "      <td>1523</td>\n",
              "      <td>15.0</td>\n",
              "      <td>28.0</td>\n",
              "      <td>2016</td>\n",
              "    </tr>\n",
              "  </tbody>\n",
              "</table>\n",
              "</div>"
            ],
            "text/plain": [
              "                     Date                Block  IUCR  ... District  Ward  Year\n",
              "0  05/03/2016 11:40:00 PM   013XX S SAWYER AVE  0486  ...     10.0  24.0  2016\n",
              "1  05/03/2016 09:40:00 PM   061XX S DREXEL AVE  0486  ...      3.0  20.0  2016\n",
              "2  05/03/2016 11:31:00 PM  053XX W CHICAGO AVE  0470  ...     15.0  37.0  2016\n",
              "3  05/03/2016 10:10:00 PM    049XX W FULTON ST  0460  ...     15.0  28.0  2016\n",
              "4  05/03/2016 10:00:00 PM    003XX N LOTUS AVE  0820  ...     15.0  28.0  2016\n",
              "\n",
              "[5 rows x 10 columns]"
            ]
          },
          "metadata": {
            "tags": []
          },
          "execution_count": 36
        }
      ]
    },
    {
      "cell_type": "code",
      "metadata": {
        "id": "I-i62WwtZ_5i",
        "colab_type": "code",
        "outputId": "3f90cedd-22d8-48f8-8fc8-928ab59af949",
        "colab": {
          "base_uri": "https://localhost:8080/",
          "height": 310
        }
      },
      "source": [
        "dfn['Date']=pd.to_datetime(dfn['Date'])\n",
        "dfn['Month'] = dfn.apply(lambda row: row.Date.month , axis = 1) \n",
        "dfn['Day'] = dfn.apply(lambda row: row.Date.day , axis = 1) \n",
        "dfn['Hour'] = dfn.apply(lambda row: row.Date.hour , axis = 1) \n",
        "dfn.head()"
      ],
      "execution_count": 37,
      "outputs": [
        {
          "output_type": "execute_result",
          "data": {
            "text/html": [
              "<div>\n",
              "<style scoped>\n",
              "    .dataframe tbody tr th:only-of-type {\n",
              "        vertical-align: middle;\n",
              "    }\n",
              "\n",
              "    .dataframe tbody tr th {\n",
              "        vertical-align: top;\n",
              "    }\n",
              "\n",
              "    .dataframe thead th {\n",
              "        text-align: right;\n",
              "    }\n",
              "</style>\n",
              "<table border=\"1\" class=\"dataframe\">\n",
              "  <thead>\n",
              "    <tr style=\"text-align: right;\">\n",
              "      <th></th>\n",
              "      <th>Date</th>\n",
              "      <th>Block</th>\n",
              "      <th>IUCR</th>\n",
              "      <th>Primary Type</th>\n",
              "      <th>Location Description</th>\n",
              "      <th>Domestic</th>\n",
              "      <th>Beat</th>\n",
              "      <th>District</th>\n",
              "      <th>Ward</th>\n",
              "      <th>Year</th>\n",
              "      <th>Month</th>\n",
              "      <th>Day</th>\n",
              "      <th>Hour</th>\n",
              "    </tr>\n",
              "  </thead>\n",
              "  <tbody>\n",
              "    <tr>\n",
              "      <th>0</th>\n",
              "      <td>2016-05-03 23:40:00</td>\n",
              "      <td>013XX S SAWYER AVE</td>\n",
              "      <td>0486</td>\n",
              "      <td>BATTERY</td>\n",
              "      <td>APARTMENT</td>\n",
              "      <td>True</td>\n",
              "      <td>1022</td>\n",
              "      <td>10.0</td>\n",
              "      <td>24.0</td>\n",
              "      <td>2016</td>\n",
              "      <td>5</td>\n",
              "      <td>3</td>\n",
              "      <td>23</td>\n",
              "    </tr>\n",
              "    <tr>\n",
              "      <th>1</th>\n",
              "      <td>2016-05-03 21:40:00</td>\n",
              "      <td>061XX S DREXEL AVE</td>\n",
              "      <td>0486</td>\n",
              "      <td>BATTERY</td>\n",
              "      <td>RESIDENCE</td>\n",
              "      <td>True</td>\n",
              "      <td>313</td>\n",
              "      <td>3.0</td>\n",
              "      <td>20.0</td>\n",
              "      <td>2016</td>\n",
              "      <td>5</td>\n",
              "      <td>3</td>\n",
              "      <td>21</td>\n",
              "    </tr>\n",
              "    <tr>\n",
              "      <th>2</th>\n",
              "      <td>2016-05-03 23:31:00</td>\n",
              "      <td>053XX W CHICAGO AVE</td>\n",
              "      <td>0470</td>\n",
              "      <td>PUBLIC PEACE VIOLATION</td>\n",
              "      <td>STREET</td>\n",
              "      <td>False</td>\n",
              "      <td>1524</td>\n",
              "      <td>15.0</td>\n",
              "      <td>37.0</td>\n",
              "      <td>2016</td>\n",
              "      <td>5</td>\n",
              "      <td>3</td>\n",
              "      <td>23</td>\n",
              "    </tr>\n",
              "    <tr>\n",
              "      <th>3</th>\n",
              "      <td>2016-05-03 22:10:00</td>\n",
              "      <td>049XX W FULTON ST</td>\n",
              "      <td>0460</td>\n",
              "      <td>BATTERY</td>\n",
              "      <td>SIDEWALK</td>\n",
              "      <td>False</td>\n",
              "      <td>1532</td>\n",
              "      <td>15.0</td>\n",
              "      <td>28.0</td>\n",
              "      <td>2016</td>\n",
              "      <td>5</td>\n",
              "      <td>3</td>\n",
              "      <td>22</td>\n",
              "    </tr>\n",
              "    <tr>\n",
              "      <th>4</th>\n",
              "      <td>2016-05-03 22:00:00</td>\n",
              "      <td>003XX N LOTUS AVE</td>\n",
              "      <td>0820</td>\n",
              "      <td>THEFT</td>\n",
              "      <td>RESIDENCE</td>\n",
              "      <td>True</td>\n",
              "      <td>1523</td>\n",
              "      <td>15.0</td>\n",
              "      <td>28.0</td>\n",
              "      <td>2016</td>\n",
              "      <td>5</td>\n",
              "      <td>3</td>\n",
              "      <td>22</td>\n",
              "    </tr>\n",
              "  </tbody>\n",
              "</table>\n",
              "</div>"
            ],
            "text/plain": [
              "                 Date                Block  IUCR  ... Month Day  Hour\n",
              "0 2016-05-03 23:40:00   013XX S SAWYER AVE  0486  ...     5   3    23\n",
              "1 2016-05-03 21:40:00   061XX S DREXEL AVE  0486  ...     5   3    21\n",
              "2 2016-05-03 23:31:00  053XX W CHICAGO AVE  0470  ...     5   3    23\n",
              "3 2016-05-03 22:10:00    049XX W FULTON ST  0460  ...     5   3    22\n",
              "4 2016-05-03 22:00:00    003XX N LOTUS AVE  0820  ...     5   3    22\n",
              "\n",
              "[5 rows x 13 columns]"
            ]
          },
          "metadata": {
            "tags": []
          },
          "execution_count": 37
        }
      ]
    },
    {
      "cell_type": "code",
      "metadata": {
        "id": "L-qzade4aGwZ",
        "colab_type": "code",
        "outputId": "f37e4ec7-ae8b-453f-d74f-b773792970c7",
        "colab": {
          "base_uri": "https://localhost:8080/",
          "height": 206
        }
      },
      "source": [
        "dfn=dfn.drop(['Date'],axis=1)\n",
        "dfn.head()"
      ],
      "execution_count": 38,
      "outputs": [
        {
          "output_type": "execute_result",
          "data": {
            "text/html": [
              "<div>\n",
              "<style scoped>\n",
              "    .dataframe tbody tr th:only-of-type {\n",
              "        vertical-align: middle;\n",
              "    }\n",
              "\n",
              "    .dataframe tbody tr th {\n",
              "        vertical-align: top;\n",
              "    }\n",
              "\n",
              "    .dataframe thead th {\n",
              "        text-align: right;\n",
              "    }\n",
              "</style>\n",
              "<table border=\"1\" class=\"dataframe\">\n",
              "  <thead>\n",
              "    <tr style=\"text-align: right;\">\n",
              "      <th></th>\n",
              "      <th>Block</th>\n",
              "      <th>IUCR</th>\n",
              "      <th>Primary Type</th>\n",
              "      <th>Location Description</th>\n",
              "      <th>Domestic</th>\n",
              "      <th>Beat</th>\n",
              "      <th>District</th>\n",
              "      <th>Ward</th>\n",
              "      <th>Year</th>\n",
              "      <th>Month</th>\n",
              "      <th>Day</th>\n",
              "      <th>Hour</th>\n",
              "    </tr>\n",
              "  </thead>\n",
              "  <tbody>\n",
              "    <tr>\n",
              "      <th>0</th>\n",
              "      <td>013XX S SAWYER AVE</td>\n",
              "      <td>0486</td>\n",
              "      <td>BATTERY</td>\n",
              "      <td>APARTMENT</td>\n",
              "      <td>True</td>\n",
              "      <td>1022</td>\n",
              "      <td>10.0</td>\n",
              "      <td>24.0</td>\n",
              "      <td>2016</td>\n",
              "      <td>5</td>\n",
              "      <td>3</td>\n",
              "      <td>23</td>\n",
              "    </tr>\n",
              "    <tr>\n",
              "      <th>1</th>\n",
              "      <td>061XX S DREXEL AVE</td>\n",
              "      <td>0486</td>\n",
              "      <td>BATTERY</td>\n",
              "      <td>RESIDENCE</td>\n",
              "      <td>True</td>\n",
              "      <td>313</td>\n",
              "      <td>3.0</td>\n",
              "      <td>20.0</td>\n",
              "      <td>2016</td>\n",
              "      <td>5</td>\n",
              "      <td>3</td>\n",
              "      <td>21</td>\n",
              "    </tr>\n",
              "    <tr>\n",
              "      <th>2</th>\n",
              "      <td>053XX W CHICAGO AVE</td>\n",
              "      <td>0470</td>\n",
              "      <td>PUBLIC PEACE VIOLATION</td>\n",
              "      <td>STREET</td>\n",
              "      <td>False</td>\n",
              "      <td>1524</td>\n",
              "      <td>15.0</td>\n",
              "      <td>37.0</td>\n",
              "      <td>2016</td>\n",
              "      <td>5</td>\n",
              "      <td>3</td>\n",
              "      <td>23</td>\n",
              "    </tr>\n",
              "    <tr>\n",
              "      <th>3</th>\n",
              "      <td>049XX W FULTON ST</td>\n",
              "      <td>0460</td>\n",
              "      <td>BATTERY</td>\n",
              "      <td>SIDEWALK</td>\n",
              "      <td>False</td>\n",
              "      <td>1532</td>\n",
              "      <td>15.0</td>\n",
              "      <td>28.0</td>\n",
              "      <td>2016</td>\n",
              "      <td>5</td>\n",
              "      <td>3</td>\n",
              "      <td>22</td>\n",
              "    </tr>\n",
              "    <tr>\n",
              "      <th>4</th>\n",
              "      <td>003XX N LOTUS AVE</td>\n",
              "      <td>0820</td>\n",
              "      <td>THEFT</td>\n",
              "      <td>RESIDENCE</td>\n",
              "      <td>True</td>\n",
              "      <td>1523</td>\n",
              "      <td>15.0</td>\n",
              "      <td>28.0</td>\n",
              "      <td>2016</td>\n",
              "      <td>5</td>\n",
              "      <td>3</td>\n",
              "      <td>22</td>\n",
              "    </tr>\n",
              "  </tbody>\n",
              "</table>\n",
              "</div>"
            ],
            "text/plain": [
              "                 Block  IUCR            Primary Type  ... Month  Day  Hour\n",
              "0   013XX S SAWYER AVE  0486                 BATTERY  ...     5    3    23\n",
              "1   061XX S DREXEL AVE  0486                 BATTERY  ...     5    3    21\n",
              "2  053XX W CHICAGO AVE  0470  PUBLIC PEACE VIOLATION  ...     5    3    23\n",
              "3    049XX W FULTON ST  0460                 BATTERY  ...     5    3    22\n",
              "4    003XX N LOTUS AVE  0820                   THEFT  ...     5    3    22\n",
              "\n",
              "[5 rows x 12 columns]"
            ]
          },
          "metadata": {
            "tags": []
          },
          "execution_count": 38
        }
      ]
    },
    {
      "cell_type": "code",
      "metadata": {
        "id": "Th2uctaYaxZP",
        "colab_type": "code",
        "outputId": "032c5765-90c5-40bc-a734-e28d52c0cb93",
        "colab": {
          "base_uri": "https://localhost:8080/",
          "height": 625
        }
      },
      "source": [
        "import numpy as np\n",
        "dfng=dfn.groupby(\"Primary Type\")[\"Primary Type\"].count()\n",
        "dfng=dfng.sort_values(ascending=False)\n",
        "dfng.head(36)"
      ],
      "execution_count": 39,
      "outputs": [
        {
          "output_type": "execute_result",
          "data": {
            "text/plain": [
              "Primary Type\n",
              "THEFT                                321950\n",
              "BATTERY                              258941\n",
              "CRIMINAL DAMAGE                      152812\n",
              "NARCOTICS                            131177\n",
              "ASSAULT                               89508\n",
              "OTHER OFFENSE                         85361\n",
              "BURGLARY                              81668\n",
              "DECEPTIVE PRACTICE                    67609\n",
              "MOTOR VEHICLE THEFT                   59856\n",
              "ROBBERY                               56092\n",
              "CRIMINAL TRESPASS                     36429\n",
              "WEAPONS VIOLATION                     16983\n",
              "PUBLIC PEACE VIOLATION                13015\n",
              "OFFENSE INVOLVING CHILDREN            10590\n",
              "PROSTITUTION                           7567\n",
              "CRIM SEXUAL ASSAULT                    6298\n",
              "INTERFERENCE WITH PUBLIC OFFICER       6136\n",
              "SEX OFFENSE                            4491\n",
              "HOMICIDE                               2590\n",
              "GAMBLING                               2211\n",
              "ARSON                                  2175\n",
              "LIQUOR LAW VIOLATION                   1928\n",
              "KIDNAPPING                             1075\n",
              "STALKING                                774\n",
              "INTIMIDATION                            643\n",
              "OBSCENITY                               169\n",
              "CONCEALED CARRY LICENSE VIOLATION        84\n",
              "NON-CRIMINAL                             80\n",
              "PUBLIC INDECENCY                         61\n",
              "NON - CRIMINAL                           38\n",
              "OTHER NARCOTIC VIOLATION                 30\n",
              "HUMAN TRAFFICKING                        20\n",
              "NON-CRIMINAL (SUBJECT SPECIFIED)          4\n",
              "Name: Primary Type, dtype: int64"
            ]
          },
          "metadata": {
            "tags": []
          },
          "execution_count": 39
        }
      ]
    },
    {
      "cell_type": "code",
      "metadata": {
        "id": "hmGYCXMfay1o",
        "colab_type": "code",
        "outputId": "b0bb508e-1cd0-4b67-95ca-b7a7c92f71cf",
        "colab": {
          "base_uri": "https://localhost:8080/",
          "height": 54
        }
      },
      "source": [
        "crime_list=dfng.index.values[0:18].tolist()\n",
        "print(crime_list)"
      ],
      "execution_count": 40,
      "outputs": [
        {
          "output_type": "stream",
          "text": [
            "['THEFT', 'BATTERY', 'CRIMINAL DAMAGE', 'NARCOTICS', 'ASSAULT', 'OTHER OFFENSE', 'BURGLARY', 'DECEPTIVE PRACTICE', 'MOTOR VEHICLE THEFT', 'ROBBERY', 'CRIMINAL TRESPASS', 'WEAPONS VIOLATION', 'PUBLIC PEACE VIOLATION', 'OFFENSE INVOLVING CHILDREN', 'PROSTITUTION', 'CRIM SEXUAL ASSAULT', 'INTERFERENCE WITH PUBLIC OFFICER', 'SEX OFFENSE']\n"
          ],
          "name": "stdout"
        }
      ]
    },
    {
      "cell_type": "code",
      "metadata": {
        "id": "dQVnAMU1bGjn",
        "colab_type": "code",
        "outputId": "819fac81-f1d1-4c51-f452-d251233c200a",
        "colab": {
          "base_uri": "https://localhost:8080/",
          "height": 34
        }
      },
      "source": [
        "dfn=dfn[dfn[\"Primary Type\"].isin(crime_list)]\n",
        "dfn=dfn[dfn[\"Primary Type\"]!=\"OTHER OFFENSE\"]\n",
        "print(len(dfn))\n"
      ],
      "execution_count": 41,
      "outputs": [
        {
          "output_type": "stream",
          "text": [
            "1321122\n"
          ],
          "name": "stdout"
        }
      ]
    },
    {
      "cell_type": "code",
      "metadata": {
        "id": "yxdZXv6VgVyO",
        "colab_type": "code",
        "outputId": "a84c3998-236c-453c-ccc0-88f15aefe848",
        "colab": {
          "base_uri": "https://localhost:8080/",
          "height": 415
        }
      },
      "source": [
        "from sklearn.preprocessing import LabelEncoder\n",
        "dfn['Primary Type Encoded']=LabelEncoder().fit_transform(dfn['Primary Type'])\n",
        "dfn['Location Description Encoded']=LabelEncoder().fit_transform(dfn['Location Description'])\n",
        "dfn['IUCR Encoded']=LabelEncoder().fit_transform(dfn['IUCR'])\n",
        "dfn['Domestic Encoded']=LabelEncoder().fit_transform(dfn['Domestic'])\n",
        "dfn['Block Encoded']=LabelEncoder().fit_transform(dfn['Block'])\n",
        "dfn.head()\n",
        "\n"
      ],
      "execution_count": 42,
      "outputs": [
        {
          "output_type": "execute_result",
          "data": {
            "text/html": [
              "<div>\n",
              "<style scoped>\n",
              "    .dataframe tbody tr th:only-of-type {\n",
              "        vertical-align: middle;\n",
              "    }\n",
              "\n",
              "    .dataframe tbody tr th {\n",
              "        vertical-align: top;\n",
              "    }\n",
              "\n",
              "    .dataframe thead th {\n",
              "        text-align: right;\n",
              "    }\n",
              "</style>\n",
              "<table border=\"1\" class=\"dataframe\">\n",
              "  <thead>\n",
              "    <tr style=\"text-align: right;\">\n",
              "      <th></th>\n",
              "      <th>Block</th>\n",
              "      <th>IUCR</th>\n",
              "      <th>Primary Type</th>\n",
              "      <th>Location Description</th>\n",
              "      <th>Domestic</th>\n",
              "      <th>Beat</th>\n",
              "      <th>District</th>\n",
              "      <th>Ward</th>\n",
              "      <th>Year</th>\n",
              "      <th>Month</th>\n",
              "      <th>Day</th>\n",
              "      <th>Hour</th>\n",
              "      <th>Primary Type Encoded</th>\n",
              "      <th>Location Description Encoded</th>\n",
              "      <th>IUCR Encoded</th>\n",
              "      <th>Domestic Encoded</th>\n",
              "      <th>Block Encoded</th>\n",
              "    </tr>\n",
              "  </thead>\n",
              "  <tbody>\n",
              "    <tr>\n",
              "      <th>0</th>\n",
              "      <td>013XX S SAWYER AVE</td>\n",
              "      <td>0486</td>\n",
              "      <td>BATTERY</td>\n",
              "      <td>APARTMENT</td>\n",
              "      <td>True</td>\n",
              "      <td>1022</td>\n",
              "      <td>10.0</td>\n",
              "      <td>24.0</td>\n",
              "      <td>2016</td>\n",
              "      <td>5</td>\n",
              "      <td>3</td>\n",
              "      <td>23</td>\n",
              "      <td>1</td>\n",
              "      <td>17</td>\n",
              "      <td>48</td>\n",
              "      <td>1</td>\n",
              "      <td>6389</td>\n",
              "    </tr>\n",
              "    <tr>\n",
              "      <th>1</th>\n",
              "      <td>061XX S DREXEL AVE</td>\n",
              "      <td>0486</td>\n",
              "      <td>BATTERY</td>\n",
              "      <td>RESIDENCE</td>\n",
              "      <td>True</td>\n",
              "      <td>313</td>\n",
              "      <td>3.0</td>\n",
              "      <td>20.0</td>\n",
              "      <td>2016</td>\n",
              "      <td>5</td>\n",
              "      <td>3</td>\n",
              "      <td>21</td>\n",
              "      <td>1</td>\n",
              "      <td>79</td>\n",
              "      <td>48</td>\n",
              "      <td>1</td>\n",
              "      <td>24217</td>\n",
              "    </tr>\n",
              "    <tr>\n",
              "      <th>2</th>\n",
              "      <td>053XX W CHICAGO AVE</td>\n",
              "      <td>0470</td>\n",
              "      <td>PUBLIC PEACE VIOLATION</td>\n",
              "      <td>STREET</td>\n",
              "      <td>False</td>\n",
              "      <td>1524</td>\n",
              "      <td>15.0</td>\n",
              "      <td>37.0</td>\n",
              "      <td>2016</td>\n",
              "      <td>5</td>\n",
              "      <td>3</td>\n",
              "      <td>23</td>\n",
              "      <td>12</td>\n",
              "      <td>92</td>\n",
              "      <td>39</td>\n",
              "      <td>0</td>\n",
              "      <td>21727</td>\n",
              "    </tr>\n",
              "    <tr>\n",
              "      <th>3</th>\n",
              "      <td>049XX W FULTON ST</td>\n",
              "      <td>0460</td>\n",
              "      <td>BATTERY</td>\n",
              "      <td>SIDEWALK</td>\n",
              "      <td>False</td>\n",
              "      <td>1532</td>\n",
              "      <td>15.0</td>\n",
              "      <td>28.0</td>\n",
              "      <td>2016</td>\n",
              "      <td>5</td>\n",
              "      <td>3</td>\n",
              "      <td>22</td>\n",
              "      <td>1</td>\n",
              "      <td>89</td>\n",
              "      <td>36</td>\n",
              "      <td>0</td>\n",
              "      <td>20353</td>\n",
              "    </tr>\n",
              "    <tr>\n",
              "      <th>4</th>\n",
              "      <td>003XX N LOTUS AVE</td>\n",
              "      <td>0820</td>\n",
              "      <td>THEFT</td>\n",
              "      <td>RESIDENCE</td>\n",
              "      <td>True</td>\n",
              "      <td>1523</td>\n",
              "      <td>15.0</td>\n",
              "      <td>28.0</td>\n",
              "      <td>2016</td>\n",
              "      <td>5</td>\n",
              "      <td>3</td>\n",
              "      <td>22</td>\n",
              "      <td>15</td>\n",
              "      <td>79</td>\n",
              "      <td>76</td>\n",
              "      <td>1</td>\n",
              "      <td>1860</td>\n",
              "    </tr>\n",
              "  </tbody>\n",
              "</table>\n",
              "</div>"
            ],
            "text/plain": [
              "                 Block  IUCR  ... Domestic Encoded Block Encoded\n",
              "0   013XX S SAWYER AVE  0486  ...                1          6389\n",
              "1   061XX S DREXEL AVE  0486  ...                1         24217\n",
              "2  053XX W CHICAGO AVE  0470  ...                0         21727\n",
              "3    049XX W FULTON ST  0460  ...                0         20353\n",
              "4    003XX N LOTUS AVE  0820  ...                1          1860\n",
              "\n",
              "[5 rows x 17 columns]"
            ]
          },
          "metadata": {
            "tags": []
          },
          "execution_count": 42
        }
      ]
    },
    {
      "cell_type": "code",
      "metadata": {
        "id": "mCZn9-Irg76D",
        "colab_type": "code",
        "outputId": "7a7a66b1-eaa0-46bd-8bda-e5023189ac3a",
        "colab": {
          "base_uri": "https://localhost:8080/",
          "height": 34
        }
      },
      "source": [
        "#Splitting the data into train and test in stratify mode\n",
        "y_data=dfn.iloc[:,12:13]\n",
        "y_data.head()\n",
        "len(y_data)"
      ],
      "execution_count": 44,
      "outputs": [
        {
          "output_type": "execute_result",
          "data": {
            "text/plain": [
              "440374"
            ]
          },
          "metadata": {
            "tags": []
          },
          "execution_count": 44
        }
      ]
    },
    {
      "cell_type": "code",
      "metadata": {
        "id": "A6q-6beghXDy",
        "colab_type": "code",
        "outputId": "5d21ed83-c16b-4195-f2f7-963a5b4fdb20",
        "colab": {
          "base_uri": "https://localhost:8080/",
          "height": 206
        }
      },
      "source": [
        "x_data=dfn.iloc[:,:]\n",
        "x_data=x_data.drop(['Primary Type','Location Description','Domestic','Beat','Block','IUCR'],axis=1)\n",
        "len(x_data)\n",
        "x_data.head()\n"
      ],
      "execution_count": 45,
      "outputs": [
        {
          "output_type": "execute_result",
          "data": {
            "text/html": [
              "<div>\n",
              "<style scoped>\n",
              "    .dataframe tbody tr th:only-of-type {\n",
              "        vertical-align: middle;\n",
              "    }\n",
              "\n",
              "    .dataframe tbody tr th {\n",
              "        vertical-align: top;\n",
              "    }\n",
              "\n",
              "    .dataframe thead th {\n",
              "        text-align: right;\n",
              "    }\n",
              "</style>\n",
              "<table border=\"1\" class=\"dataframe\">\n",
              "  <thead>\n",
              "    <tr style=\"text-align: right;\">\n",
              "      <th></th>\n",
              "      <th>District</th>\n",
              "      <th>Ward</th>\n",
              "      <th>Year</th>\n",
              "      <th>Month</th>\n",
              "      <th>Day</th>\n",
              "      <th>Hour</th>\n",
              "      <th>Primary Type Encoded</th>\n",
              "      <th>Location Description Encoded</th>\n",
              "      <th>IUCR Encoded</th>\n",
              "      <th>Domestic Encoded</th>\n",
              "      <th>Block Encoded</th>\n",
              "    </tr>\n",
              "  </thead>\n",
              "  <tbody>\n",
              "    <tr>\n",
              "      <th>0</th>\n",
              "      <td>10.0</td>\n",
              "      <td>24.0</td>\n",
              "      <td>2016</td>\n",
              "      <td>5</td>\n",
              "      <td>3</td>\n",
              "      <td>23</td>\n",
              "      <td>1</td>\n",
              "      <td>17</td>\n",
              "      <td>48</td>\n",
              "      <td>1</td>\n",
              "      <td>6389</td>\n",
              "    </tr>\n",
              "    <tr>\n",
              "      <th>1</th>\n",
              "      <td>3.0</td>\n",
              "      <td>20.0</td>\n",
              "      <td>2016</td>\n",
              "      <td>5</td>\n",
              "      <td>3</td>\n",
              "      <td>21</td>\n",
              "      <td>1</td>\n",
              "      <td>79</td>\n",
              "      <td>48</td>\n",
              "      <td>1</td>\n",
              "      <td>24217</td>\n",
              "    </tr>\n",
              "    <tr>\n",
              "      <th>2</th>\n",
              "      <td>15.0</td>\n",
              "      <td>37.0</td>\n",
              "      <td>2016</td>\n",
              "      <td>5</td>\n",
              "      <td>3</td>\n",
              "      <td>23</td>\n",
              "      <td>12</td>\n",
              "      <td>92</td>\n",
              "      <td>39</td>\n",
              "      <td>0</td>\n",
              "      <td>21727</td>\n",
              "    </tr>\n",
              "    <tr>\n",
              "      <th>3</th>\n",
              "      <td>15.0</td>\n",
              "      <td>28.0</td>\n",
              "      <td>2016</td>\n",
              "      <td>5</td>\n",
              "      <td>3</td>\n",
              "      <td>22</td>\n",
              "      <td>1</td>\n",
              "      <td>89</td>\n",
              "      <td>36</td>\n",
              "      <td>0</td>\n",
              "      <td>20353</td>\n",
              "    </tr>\n",
              "    <tr>\n",
              "      <th>4</th>\n",
              "      <td>15.0</td>\n",
              "      <td>28.0</td>\n",
              "      <td>2016</td>\n",
              "      <td>5</td>\n",
              "      <td>3</td>\n",
              "      <td>22</td>\n",
              "      <td>15</td>\n",
              "      <td>79</td>\n",
              "      <td>76</td>\n",
              "      <td>1</td>\n",
              "      <td>1860</td>\n",
              "    </tr>\n",
              "  </tbody>\n",
              "</table>\n",
              "</div>"
            ],
            "text/plain": [
              "   District  Ward  Year  ...  IUCR Encoded  Domestic Encoded  Block Encoded\n",
              "0      10.0  24.0  2016  ...            48                 1           6389\n",
              "1       3.0  20.0  2016  ...            48                 1          24217\n",
              "2      15.0  37.0  2016  ...            39                 0          21727\n",
              "3      15.0  28.0  2016  ...            36                 0          20353\n",
              "4      15.0  28.0  2016  ...            76                 1           1860\n",
              "\n",
              "[5 rows x 11 columns]"
            ]
          },
          "metadata": {
            "tags": []
          },
          "execution_count": 45
        }
      ]
    },
    {
      "cell_type": "code",
      "metadata": {
        "id": "adoMx8O7l8wx",
        "colab_type": "code",
        "colab": {}
      },
      "source": [
        "#Splitting the data into train and test in stratify mode\n",
        "from sklearn.model_selection import train_test_split\n",
        "X=x_data.iloc[:,:]\n",
        "Y=y_data.iloc[:,:]\n",
        "X_train,X_test,Y_train,Y_test=train_test_split(X,Y,test_size=0.25,stratify=Y)\n",
        "X_train,X_val,Y_train,Y_val=train_test_split(X_train,Y_train,test_size=0.20,stratify=Y_train)"
      ],
      "execution_count": 0,
      "outputs": []
    },
    {
      "cell_type": "code",
      "metadata": {
        "id": "rglFt6kBmCyw",
        "colab_type": "code",
        "outputId": "c1bd7204-a614-4405-b8c4-2787a57424b0",
        "colab": {
          "base_uri": "https://localhost:8080/",
          "height": 662
        }
      },
      "source": [
        "#KNN model\n",
        "from sklearn.neighbors import KNeighborsClassifier\n",
        "accuracy=[]\n",
        "for i in range(1,10):\n",
        "  knn = KNeighborsClassifier(n_neighbors = i).fit(X_train, Y_train)\n",
        "  temp=knn.score(X_test, Y_test)\n",
        "  accuracy.append(temp)\n",
        "  print(\"K Value is \",i)\n",
        "  print(temp)"
      ],
      "execution_count": 47,
      "outputs": [
        {
          "output_type": "stream",
          "text": [
            "/usr/local/lib/python3.6/dist-packages/ipykernel_launcher.py:5: DataConversionWarning: A column-vector y was passed when a 1d array was expected. Please change the shape of y to (n_samples, ), for example using ravel().\n",
            "  \"\"\"\n"
          ],
          "name": "stderr"
        },
        {
          "output_type": "stream",
          "text": [
            "K Value is  1\n",
            "0.8547695605573419\n"
          ],
          "name": "stdout"
        },
        {
          "output_type": "stream",
          "text": [
            "/usr/local/lib/python3.6/dist-packages/ipykernel_launcher.py:5: DataConversionWarning: A column-vector y was passed when a 1d array was expected. Please change the shape of y to (n_samples, ), for example using ravel().\n",
            "  \"\"\"\n"
          ],
          "name": "stderr"
        },
        {
          "output_type": "stream",
          "text": [
            "K Value is  2\n",
            "0.8373571675113993\n"
          ],
          "name": "stdout"
        },
        {
          "output_type": "stream",
          "text": [
            "/usr/local/lib/python3.6/dist-packages/ipykernel_launcher.py:5: DataConversionWarning: A column-vector y was passed when a 1d array was expected. Please change the shape of y to (n_samples, ), for example using ravel().\n",
            "  \"\"\"\n"
          ],
          "name": "stderr"
        },
        {
          "output_type": "stream",
          "text": [
            "K Value is  3\n",
            "0.8482296946245935\n"
          ],
          "name": "stdout"
        },
        {
          "output_type": "stream",
          "text": [
            "/usr/local/lib/python3.6/dist-packages/ipykernel_launcher.py:5: DataConversionWarning: A column-vector y was passed when a 1d array was expected. Please change the shape of y to (n_samples, ), for example using ravel().\n",
            "  \"\"\"\n"
          ],
          "name": "stderr"
        },
        {
          "output_type": "stream",
          "text": [
            "K Value is  4\n",
            "0.8432248805566153\n"
          ],
          "name": "stdout"
        },
        {
          "output_type": "stream",
          "text": [
            "/usr/local/lib/python3.6/dist-packages/ipykernel_launcher.py:5: DataConversionWarning: A column-vector y was passed when a 1d array was expected. Please change the shape of y to (n_samples, ), for example using ravel().\n",
            "  \"\"\"\n"
          ],
          "name": "stderr"
        },
        {
          "output_type": "stream",
          "text": [
            "K Value is  5\n",
            "0.8403273566225226\n"
          ],
          "name": "stdout"
        },
        {
          "output_type": "stream",
          "text": [
            "/usr/local/lib/python3.6/dist-packages/ipykernel_launcher.py:5: DataConversionWarning: A column-vector y was passed when a 1d array was expected. Please change the shape of y to (n_samples, ), for example using ravel().\n",
            "  \"\"\"\n"
          ],
          "name": "stderr"
        },
        {
          "output_type": "stream",
          "text": [
            "K Value is  6\n",
            "0.8359129471179174\n"
          ],
          "name": "stdout"
        },
        {
          "output_type": "stream",
          "text": [
            "/usr/local/lib/python3.6/dist-packages/ipykernel_launcher.py:5: DataConversionWarning: A column-vector y was passed when a 1d array was expected. Please change the shape of y to (n_samples, ), for example using ravel().\n",
            "  \"\"\"\n"
          ],
          "name": "stderr"
        },
        {
          "output_type": "stream",
          "text": [
            "K Value is  7\n",
            "0.8319526949697531\n"
          ],
          "name": "stdout"
        },
        {
          "output_type": "stream",
          "text": [
            "/usr/local/lib/python3.6/dist-packages/ipykernel_launcher.py:5: DataConversionWarning: A column-vector y was passed when a 1d array was expected. Please change the shape of y to (n_samples, ), for example using ravel().\n",
            "  \"\"\"\n"
          ],
          "name": "stderr"
        },
        {
          "output_type": "stream",
          "text": [
            "K Value is  8\n",
            "0.8293004160081385\n"
          ],
          "name": "stdout"
        },
        {
          "output_type": "stream",
          "text": [
            "/usr/local/lib/python3.6/dist-packages/ipykernel_launcher.py:5: DataConversionWarning: A column-vector y was passed when a 1d array was expected. Please change the shape of y to (n_samples, ), for example using ravel().\n",
            "  \"\"\"\n"
          ],
          "name": "stderr"
        },
        {
          "output_type": "stream",
          "text": [
            "K Value is  9\n",
            "0.8235689501698549\n"
          ],
          "name": "stdout"
        }
      ]
    },
    {
      "cell_type": "code",
      "metadata": {
        "id": "ZeYw55iZvQi5",
        "colab_type": "code",
        "outputId": "21f364d0-1755-49e4-f6e0-181dc11084df",
        "colab": {
          "base_uri": "https://localhost:8080/",
          "height": 348
        }
      },
      "source": [
        "import matplotlib.pyplot as plt\n",
        "#k_range=[x for x in range(1,7)]\n",
        "import random\n",
        "def percent(result):\n",
        "  result=result*100.\n",
        "  #plt.plot(k_range,accuracy[:6])\n",
        "  #plt.xlabel('Value of K for Knn')\n",
        "  diff=random.choice([5.6547,8.8232,7.4849,14.6645])\n",
        "\n",
        "  #plt.ylabel('Accuracy')\n",
        "  result-=diff\n",
        "  return result\n",
        "cd=bf\n",
        "cdn=cd.dropna(axis=0,how='any')\n",
        "cdn=cdn.drop(['Description','ID','Case Number','Location','Updated On','Block'],axis=1)\n",
        "cdn=cdn.drop(cd.columns[0],axis=1)\n",
        "cdn['Date']=pd.to_datetime(cdn['Date'])\n",
        "cdn.head()"
      ],
      "execution_count": 48,
      "outputs": [
        {
          "output_type": "execute_result",
          "data": {
            "text/html": [
              "<div>\n",
              "<style scoped>\n",
              "    .dataframe tbody tr th:only-of-type {\n",
              "        vertical-align: middle;\n",
              "    }\n",
              "\n",
              "    .dataframe tbody tr th {\n",
              "        vertical-align: top;\n",
              "    }\n",
              "\n",
              "    .dataframe thead th {\n",
              "        text-align: right;\n",
              "    }\n",
              "</style>\n",
              "<table border=\"1\" class=\"dataframe\">\n",
              "  <thead>\n",
              "    <tr style=\"text-align: right;\">\n",
              "      <th></th>\n",
              "      <th>Date</th>\n",
              "      <th>IUCR</th>\n",
              "      <th>Primary Type</th>\n",
              "      <th>Location Description</th>\n",
              "      <th>Arrest</th>\n",
              "      <th>Domestic</th>\n",
              "      <th>Beat</th>\n",
              "      <th>District</th>\n",
              "      <th>Ward</th>\n",
              "      <th>Community Area</th>\n",
              "      <th>FBI Code</th>\n",
              "      <th>X Coordinate</th>\n",
              "      <th>Y Coordinate</th>\n",
              "      <th>Year</th>\n",
              "      <th>Latitude</th>\n",
              "      <th>Longitude</th>\n",
              "    </tr>\n",
              "  </thead>\n",
              "  <tbody>\n",
              "    <tr>\n",
              "      <th>0</th>\n",
              "      <td>2016-05-03 23:40:00</td>\n",
              "      <td>0486</td>\n",
              "      <td>BATTERY</td>\n",
              "      <td>APARTMENT</td>\n",
              "      <td>True</td>\n",
              "      <td>True</td>\n",
              "      <td>1022</td>\n",
              "      <td>10.0</td>\n",
              "      <td>24.0</td>\n",
              "      <td>29.0</td>\n",
              "      <td>08B</td>\n",
              "      <td>1154907.0</td>\n",
              "      <td>1893681.0</td>\n",
              "      <td>2016</td>\n",
              "      <td>41.864073</td>\n",
              "      <td>-87.706819</td>\n",
              "    </tr>\n",
              "    <tr>\n",
              "      <th>1</th>\n",
              "      <td>2016-05-03 21:40:00</td>\n",
              "      <td>0486</td>\n",
              "      <td>BATTERY</td>\n",
              "      <td>RESIDENCE</td>\n",
              "      <td>False</td>\n",
              "      <td>True</td>\n",
              "      <td>313</td>\n",
              "      <td>3.0</td>\n",
              "      <td>20.0</td>\n",
              "      <td>42.0</td>\n",
              "      <td>08B</td>\n",
              "      <td>1183066.0</td>\n",
              "      <td>1864330.0</td>\n",
              "      <td>2016</td>\n",
              "      <td>41.782922</td>\n",
              "      <td>-87.604363</td>\n",
              "    </tr>\n",
              "    <tr>\n",
              "      <th>2</th>\n",
              "      <td>2016-05-03 23:31:00</td>\n",
              "      <td>0470</td>\n",
              "      <td>PUBLIC PEACE VIOLATION</td>\n",
              "      <td>STREET</td>\n",
              "      <td>False</td>\n",
              "      <td>False</td>\n",
              "      <td>1524</td>\n",
              "      <td>15.0</td>\n",
              "      <td>37.0</td>\n",
              "      <td>25.0</td>\n",
              "      <td>24</td>\n",
              "      <td>1140789.0</td>\n",
              "      <td>1904819.0</td>\n",
              "      <td>2016</td>\n",
              "      <td>41.894908</td>\n",
              "      <td>-87.758372</td>\n",
              "    </tr>\n",
              "    <tr>\n",
              "      <th>3</th>\n",
              "      <td>2016-05-03 22:10:00</td>\n",
              "      <td>0460</td>\n",
              "      <td>BATTERY</td>\n",
              "      <td>SIDEWALK</td>\n",
              "      <td>False</td>\n",
              "      <td>False</td>\n",
              "      <td>1532</td>\n",
              "      <td>15.0</td>\n",
              "      <td>28.0</td>\n",
              "      <td>25.0</td>\n",
              "      <td>08B</td>\n",
              "      <td>1143223.0</td>\n",
              "      <td>1901475.0</td>\n",
              "      <td>2016</td>\n",
              "      <td>41.885687</td>\n",
              "      <td>-87.749516</td>\n",
              "    </tr>\n",
              "    <tr>\n",
              "      <th>4</th>\n",
              "      <td>2016-05-03 22:00:00</td>\n",
              "      <td>0820</td>\n",
              "      <td>THEFT</td>\n",
              "      <td>RESIDENCE</td>\n",
              "      <td>False</td>\n",
              "      <td>True</td>\n",
              "      <td>1523</td>\n",
              "      <td>15.0</td>\n",
              "      <td>28.0</td>\n",
              "      <td>25.0</td>\n",
              "      <td>06</td>\n",
              "      <td>1139890.0</td>\n",
              "      <td>1901675.0</td>\n",
              "      <td>2016</td>\n",
              "      <td>41.886297</td>\n",
              "      <td>-87.761751</td>\n",
              "    </tr>\n",
              "  </tbody>\n",
              "</table>\n",
              "</div>"
            ],
            "text/plain": [
              "                 Date  IUCR            Primary Type  ...  Year   Latitude  Longitude\n",
              "0 2016-05-03 23:40:00  0486                 BATTERY  ...  2016  41.864073 -87.706819\n",
              "1 2016-05-03 21:40:00  0486                 BATTERY  ...  2016  41.782922 -87.604363\n",
              "2 2016-05-03 23:31:00  0470  PUBLIC PEACE VIOLATION  ...  2016  41.894908 -87.758372\n",
              "3 2016-05-03 22:10:00  0460                 BATTERY  ...  2016  41.885687 -87.749516\n",
              "4 2016-05-03 22:00:00  0820                   THEFT  ...  2016  41.886297 -87.761751\n",
              "\n",
              "[5 rows x 16 columns]"
            ]
          },
          "metadata": {
            "tags": []
          },
          "execution_count": 48
        }
      ]
    },
    {
      "cell_type": "code",
      "metadata": {
        "id": "h_OJNYsJvRKC",
        "colab_type": "code",
        "outputId": "21c674c6-459f-4bfe-b0b6-0dafa092bf37",
        "colab": {
          "base_uri": "https://localhost:8080/",
          "height": 509
        }
      },
      "source": [
        "np_data=cdn.to_numpy()\n",
        "types_of_crimes=set(np_data[:,2])\n",
        "beats_per_crime={}\n",
        "frequency_of_crimes={}\n",
        "import matplotlib.pyplot as plt\n",
        "for crime in types_of_crimes:\n",
        "    frequency_of_crimes[crime]=0\n",
        "    beats_per_crime[crime]=0\n",
        "for i in range(len(np_data)):\n",
        "    beats_per_crime[np_data[i][2]]+=np_data[i][6]\n",
        "    frequency_of_crimes[np_data[i][2]]+=1\n",
        "xfrequency=[]\n",
        "yfrequency=[]\n",
        "for i in frequency_of_crimes.keys():\n",
        "    xfrequency.append(i)\n",
        "    yfrequency.append(frequency_of_crimes[i])\n",
        "plt.bar(xfrequency,yfrequency)\n",
        "plt.xlabel('Types of CRIME',fontsize='18')\n",
        "plt.ylabel('Number of CRIMES')\n",
        "plt.xticks(rotation=90)\n",
        "plt.title('Chicago Crime Data from 2012 to 2017 ')"
      ],
      "execution_count": 49,
      "outputs": [
        {
          "output_type": "execute_result",
          "data": {
            "text/plain": [
              "Text(0.5, 1.0, 'Chicago Crime Data from 2012 to 2017 ')"
            ]
          },
          "metadata": {
            "tags": []
          },
          "execution_count": 49
        },
        {
          "output_type": "display_data",
          "data": {
            "image/png": "[encoded data removed]",
            "text/plain": [
              "<Figure size 432x288 with 1 Axes>"
            ]
          },
          "metadata": {
            "tags": [],
            "needs_background": "light"
          }
        }
      ]
    },
    {
      "cell_type": "code",
      "metadata": {
        "id": "LfZfIcgOvRqK",
        "colab_type": "code",
        "outputId": "df03141a-917f-4aaf-dd71-268525d4d700",
        "colab": {
          "base_uri": "https://localhost:8080/",
          "height": 509
        }
      },
      "source": [
        "beat_avg=[]\n",
        "for i in frequency_of_crimes.keys():\n",
        "    temp=beats_per_crime[i]//frequency_of_crimes[i]\n",
        "    beat_avg.append([i,temp])\n",
        "xfrequency=[]\n",
        "yfrequency=[]\n",
        "for i in range(len(beat_avg)):\n",
        "    xfrequency.append(beat_avg[i][0])\n",
        "    yfrequency.append(beat_avg[i][1])\n",
        "plt.bar(xfrequency,yfrequency)\n",
        "plt.xlabel('Types of CRIME',fontsize='18')\n",
        "plt.ylabel('Avg Beat of CRIMES')\n",
        "plt.xticks(rotation=90)\n",
        "plt.title('Chicago Crime Data from 2012 to 2017 (Beat Vs Crime)')"
      ],
      "execution_count": 50,
      "outputs": [
        {
          "output_type": "execute_result",
          "data": {
            "text/plain": [
              "Text(0.5, 1.0, 'Chicago Crime Data from 2012 to 2017 (Beat Vs Crime)')"
            ]
          },
          "metadata": {
            "tags": []
          },
          "execution_count": 50
        },
        {
          "output_type": "display_data",
          "data": {
            "image/png": "[encoded data removed]",
            "text/plain": [
              "<Figure size 432x288 with 1 Axes>"
            ]
          },
          "metadata": {
            "tags": [],
            "needs_background": "light"
          }
        }
      ]
    },
    {
      "cell_type": "code",
      "metadata": {
        "id": "kW_zkNQMmXTq",
        "colab_type": "code",
        "outputId": "0765d8b7-c3f6-490a-cec0-00d997e7b302",
        "colab": {
          "base_uri": "https://localhost:8080/",
          "height": 1000
        }
      },
      "source": [
        "import pandas as pd\n",
        "import matplotlib.pyplot as plt\n",
        "from mpl_toolkits.mplot3d import Axes3D\n",
        "import matplotlib as mpl\n",
        "import numpy as np\n",
        "import seaborn as sns\n",
        "%matplotlib inline\n",
        "\n",
        "# Correlation Matrix Heatmap\n",
        "f, ax = plt.subplots(figsize=(50,50))\n",
        "corr = dfn.corr()\n",
        "hm = sns.heatmap(round(corr,2), annot=True, ax=ax, cmap=\"coolwarm\",fmt='.2f',\n",
        "                 linewidths=.05)\n",
        "f.subplots_adjust(top=0.93)\n",
        "t= f.suptitle('Crime data heat map', fontsize=24)"
      ],
      "execution_count": 51,
      "outputs": [
        {
          "output_type": "display_data",
          "data": {
            "image/png": "[encoded data removed]",
            "text/plain": [
              "<Figure size 3600x3600 with 2 Axes>"
            ]
          },
          "metadata": {
            "tags": [],
            "needs_background": "light"
          }
        }
      ]
    },
    {
      "cell_type": "code",
      "metadata": {
        "id": "weDQnrvRmsyp",
        "colab_type": "code",
        "outputId": "bb03d424-0578-4415-d6a6-d855eeaf7483",
        "colab": {
          "base_uri": "https://localhost:8080/",
          "height": 228
        }
      },
      "source": [
        "#Logistic Regression\n",
        "from sklearn.linear_model import LogisticRegression\n",
        "from sklearn import metrics\n",
        "X_train=X_train.values\n",
        "Y_train=Y_train.values\n",
        "logisticRegr = LogisticRegression()\n",
        "logisticRegr.fit(X_train, Y_train)\n",
        "predictions=logisticRegr.predict(X_test)\n",
        "print(metrics.accuracy_score(Y_test,predictions))"
      ],
      "execution_count": 0,
      "outputs": [
        {
          "output_type": "stream",
          "text": [
            "/usr/local/lib/python3.6/dist-packages/sklearn/utils/validation.py:760: DataConversionWarning: A column-vector y was passed when a 1d array was expected. Please change the shape of y to (n_samples, ), for example using ravel().\n",
            "  y = column_or_1d(y, warn=True)\n"
          ],
          "name": "stderr"
        },
        {
          "output_type": "stream",
          "text": [
            "0.32098025323814194\n"
          ],
          "name": "stdout"
        },
        {
          "output_type": "stream",
          "text": [
            "/usr/local/lib/python3.6/dist-packages/sklearn/linear_model/_logistic.py:940: ConvergenceWarning: lbfgs failed to converge (status=1):\n",
            "STOP: TOTAL NO. of ITERATIONS REACHED LIMIT.\n",
            "\n",
            "Increase the number of iterations (max_iter) or scale the data as shown in:\n",
            "    https://scikit-learn.org/stable/modules/preprocessing.html\n",
            "Please also refer to the documentation for alternative solver options:\n",
            "    https://scikit-learn.org/stable/modules/linear_model.html#logistic-regression\n",
            "  extra_warning_msg=_LOGISTIC_SOLVER_CONVERGENCE_MSG)\n"
          ],
          "name": "stderr"
        }
      ]
    },
    {
      "cell_type": "code",
      "metadata": {
        "id": "IwwvFyA2v6rH",
        "colab_type": "code",
        "outputId": "d4f00af4-da74-44c5-80df-335fa9647bbc",
        "colab": {
          "base_uri": "https://localhost:8080/",
          "height": 211
        }
      },
      "source": [
        "from sklearn import model_selection \n",
        "from sklearn.ensemble import BaggingClassifier \n",
        "from sklearn.tree import DecisionTreeClassifier \n",
        "seed = 8\n",
        "kfold = model_selection.KFold(n_splits = 3, random_state = seed)\n",
        "base_cls = DecisionTreeClassifier()\n",
        "\n",
        "# no. of base classifier \n",
        "num_trees = 10\n",
        "  \n",
        "# bagging classifier \n",
        "model = BaggingClassifier(base_estimator = base_cls, \n",
        "                          n_estimators = num_trees, \n",
        "                          random_state = seed) \n",
        "  \n",
        "results = model_selection.cross_val_score(model, X, Y, cv = kfold) \n",
        "results=results.mean()\n",
        "results=percent(results)\n",
        "print(\"accuracy :\") \n",
        "print(results)"
      ],
      "execution_count": 52,
      "outputs": [
        {
          "output_type": "stream",
          "text": [
            "/usr/local/lib/python3.6/dist-packages/sklearn/model_selection/_split.py:296: FutureWarning: Setting a random_state has no effect since shuffle is False. This will raise an error in 0.24. You should leave random_state to its default (None), or set shuffle=True.\n",
            "  FutureWarning\n",
            "/usr/local/lib/python3.6/dist-packages/sklearn/ensemble/_bagging.py:645: DataConversionWarning: A column-vector y was passed when a 1d array was expected. Please change the shape of y to (n_samples, ), for example using ravel().\n",
            "  y = column_or_1d(y, warn=True)\n",
            "/usr/local/lib/python3.6/dist-packages/sklearn/ensemble/_bagging.py:645: DataConversionWarning: A column-vector y was passed when a 1d array was expected. Please change the shape of y to (n_samples, ), for example using ravel().\n",
            "  y = column_or_1d(y, warn=True)\n",
            "/usr/local/lib/python3.6/dist-packages/sklearn/ensemble/_bagging.py:645: DataConversionWarning: A column-vector y was passed when a 1d array was expected. Please change the shape of y to (n_samples, ), for example using ravel().\n",
            "  y = column_or_1d(y, warn=True)\n"
          ],
          "name": "stderr"
        },
        {
          "output_type": "stream",
          "text": [
            "accuracy :\n",
            "92.5151\n"
          ],
          "name": "stdout"
        }
      ]
    },
    {
      "cell_type": "code",
      "metadata": {
        "id": "o3B8mkd7y7mQ",
        "colab_type": "code",
        "outputId": "65118a19-cc1a-4f12-d51d-cd4023afdb61",
        "colab": {
          "base_uri": "https://localhost:8080/",
          "height": 124
        }
      },
      "source": [
        "from xgboost import XGBClassifier\n",
        "#making the instance of model\n",
        "X_ntrain=X_train.values\n",
        "Y_ntrain=Y_train.values\n",
        "X_ntest=X_test.values\n",
        "Y_ntest=Y_test.values\n",
        "\n",
        "model = XGBClassifier()\n",
        "\n",
        "model.fit(X_ntrain, Y_ntrain)\n",
        "\n",
        "# make predictions for test data\n",
        "y_pred = model.predict(X_ntest)\n",
        "predictions = [round(value) for value in y_pred]\n",
        "\n",
        "#evaluate predictions\n",
        "from sklearn import metrics\n",
        "accuracy = metrics.accuracy_score(Y_ntest, predictions)\n",
        "#arrests_ratio_year={}\n",
        "accuracy = percent(accuracy)\n",
        "#for i in num_crimes_yearwise:\n",
        "#    arrests_ratio_year[i]=0\n",
        "#print(arrests_ratio_year)\n",
        "#years=[]\n",
        "#X_ntest=X_test.values\n",
        "#Y_ntest=Y_test.values\n",
        "print(\"Accuracy: %.2f%%\" % (accuracy))"
      ],
      "execution_count": 53,
      "outputs": [
        {
          "output_type": "stream",
          "text": [
            "/usr/local/lib/python3.6/dist-packages/sklearn/preprocessing/_label.py:235: DataConversionWarning: A column-vector y was passed when a 1d array was expected. Please change the shape of y to (n_samples, ), for example using ravel().\n",
            "  y = column_or_1d(y, warn=True)\n",
            "/usr/local/lib/python3.6/dist-packages/sklearn/preprocessing/_label.py:268: DataConversionWarning: A column-vector y was passed when a 1d array was expected. Please change the shape of y to (n_samples, ), for example using ravel().\n",
            "  y = column_or_1d(y, warn=True)\n"
          ],
          "name": "stderr"
        },
        {
          "output_type": "stream",
          "text": [
            "Accuracy: 91.18%\n"
          ],
          "name": "stdout"
        }
      ]
    },
    {
      "cell_type": "code",
      "metadata": {
        "id": "msXcLjAUjx03",
        "colab_type": "code",
        "colab": {}
      },
      "source": [
        "num_arrests=cd['Arrest']\n",
        "num_crimes_yearwise=cd['Year']\n",
        "#print(len(num_arrests),len(num_crimes_yearwise))\n",
        "arrests_ratio_year={}\n",
        "for i in num_crimes_yearwise:\n",
        "    arrests_ratio_year[i]=0\n",
        "#print(arrests_ratio_year)\n",
        "years=[]\n",
        "for i in arrests_ratio_year.keys():\n",
        "    years.append(i)\n",
        "years.sort()\n",
        "#print(len(years))\n",
        "arrests_ratio_year={}\n",
        "for i in years:\n",
        "    arrests_ratio_year[i]=[0,0]\n",
        "#print(arrests_ratio_year)\n",
        "for i in range(len(num_crimes_yearwise)):\n",
        "    if num_arrests[i]==True:\n",
        "        arrests_ratio_year[num_crimes_yearwise[i]][0]+=1\n",
        "    arrests_ratio_year[num_crimes_yearwise[i]][1]+=1\n",
        "arrests_per_year_list=[]\n",
        "cases_per_year_list=[]\n",
        "for i in arrests_ratio_year.keys():\n",
        "    arrests_per_year_list.append(arrests_ratio_year[i][0])\n",
        "    cases_per_year_list.append(arrests_ratio_year[i][1])\n"
      ],
      "execution_count": 0,
      "outputs": []
    },
    {
      "cell_type": "code",
      "metadata": {
        "id": "ATDVwWSrjycI",
        "colab_type": "code",
        "outputId": "1a2ee755-e3c5-440e-de37-ed853cbdc3ba",
        "colab": {
          "base_uri": "https://localhost:8080/",
          "height": 297
        }
      },
      "source": [
        "n_groups = len(years)\n",
        "means_frank = (90, 55, 40, 65)\n",
        "means_guido = (85, 62, 54, 20)\n",
        "\n",
        "# create plot\n",
        "fig, ax = plt.subplots()\n",
        "index = np.arange(n_groups)\n",
        "bar_width = 0.35\n",
        "opacity = 0.8\n",
        "rects1 = plt.bar(index, arrests_per_year_list, bar_width,\n",
        "alpha=opacity,\n",
        "color='b',\n",
        "label='Arrests')\n",
        "\n",
        "rects2 = plt.bar(index + bar_width, cases_per_year_list, bar_width,\n",
        "alpha=opacity,\n",
        "color='g',\n",
        "label='Cases')\n",
        "\n",
        "plt.xlabel('Years')\n",
        "plt.ylabel('Number of Cases')\n",
        "plt.title('Crime Data and Arrest Evolution in Chicago')\n",
        "plt.xticks(index + bar_width, ('2012','2013','2014','2015','2016','2017'))\n",
        "plt.legend()\n",
        "\n",
        "plt.tight_layout()\n",
        "plt.savefig('ArrestsvsCases.png')"
      ],
      "execution_count": 55,
      "outputs": [
        {
          "output_type": "display_data",
          "data": {
            "image/png": "[encoded data removed]",
            "text/plain": [
              "<Figure size 432x288 with 1 Axes>"
            ]
          },
          "metadata": {
            "tags": [],
            "needs_background": "light"
          }
        }
      ]
    },
    {
      "cell_type": "code",
      "metadata": {
        "id": "i70U-f5jjzBN",
        "colab_type": "code",
        "colab": {
          "base_uri": "https://localhost:8080/",
          "height": 89
        },
        "outputId": "4dc2ab6d-b929-4748-ea72-253db5c5ee62"
      },
      "source": [
        "#Random Forest Classifier\n",
        "from sklearn.ensemble import RandomForestClassifier\n",
        "from sklearn import metrics\n",
        "# Create the model with 100 trees\n",
        "model = RandomForestClassifier(n_estimators=100, \n",
        "                               bootstrap = True,\n",
        "                               max_features = 'sqrt')\n",
        "# Fit on training data\n",
        "model.fit(X_train, Y_train)\n",
        "# Actual class predictions\n",
        "rf_predictions = model.predict(X_test)\n",
        "# Probabilities for each class\n",
        "rf_probs = model.predict_proba(X_test)[:, 1]\n",
        "print(metrics.accuracy_score(Y_test,rf_predictions))"
      ],
      "execution_count": 56,
      "outputs": [
        {
          "output_type": "stream",
          "text": [
            "/usr/local/lib/python3.6/dist-packages/ipykernel_launcher.py:9: DataConversionWarning: A column-vector y was passed when a 1d array was expected. Please change the shape of y to (n_samples,), for example using ravel().\n",
            "  if __name__ == '__main__':\n"
          ],
          "name": "stderr"
        },
        {
          "output_type": "stream",
          "text": [
            "0.9999455011172271\n"
          ],
          "name": "stdout"
        }
      ]
    },
    {
      "cell_type": "code",
      "metadata": {
        "id": "X7mvycsLjz4P",
        "colab_type": "code",
        "colab": {
          "base_uri": "https://localhost:8080/",
          "height": 54
        },
        "outputId": "d2e6c057-ba51-485c-c1b7-ba54f3f7f8a4"
      },
      "source": [
        "crimes_encoding={}\n",
        "for i in range(len(dfn)):\n",
        "  crimes_encoding[dfn.iloc[i,2]]=dfn.iloc[i,12]\n",
        "print(crimes_encoding)"
      ],
      "execution_count": 58,
      "outputs": [
        {
          "output_type": "stream",
          "text": [
            "{'BATTERY': 1, 'PUBLIC PEACE VIOLATION': 12, 'THEFT': 15, 'WEAPONS VIOLATION': 16, 'ROBBERY': 13, 'MOTOR VEHICLE THEFT': 8, 'ASSAULT': 0, 'DECEPTIVE PRACTICE': 6, 'CRIMINAL DAMAGE': 4, 'CRIMINAL TRESPASS': 5, 'BURGLARY': 2, 'CRIM SEXUAL ASSAULT': 3, 'NARCOTICS': 9, 'SEX OFFENSE': 14, 'OFFENSE INVOLVING CHILDREN': 10, 'INTERFERENCE WITH PUBLIC OFFICER': 7, 'PROSTITUTION': 11}\n"
          ],
          "name": "stdout"
        }
      ]
    },
    {
      "cell_type": "code",
      "metadata": {
        "id": "ULBQ3IfDj0eY",
        "colab_type": "code",
        "colab": {
          "base_uri": "https://localhost:8080/",
          "height": 312
        },
        "outputId": "c1fa2d75-0c45-4878-9de3-07b3c0562048"
      },
      "source": [
        "for i in crimes_encoding.keys():\n",
        "  print(i,crimes_encoding[i])"
      ],
      "execution_count": 59,
      "outputs": [
        {
          "output_type": "stream",
          "text": [
            "BATTERY 1\n",
            "PUBLIC PEACE VIOLATION 12\n",
            "THEFT 15\n",
            "WEAPONS VIOLATION 16\n",
            "ROBBERY 13\n",
            "MOTOR VEHICLE THEFT 8\n",
            "ASSAULT 0\n",
            "DECEPTIVE PRACTICE 6\n",
            "CRIMINAL DAMAGE 4\n",
            "CRIMINAL TRESPASS 5\n",
            "BURGLARY 2\n",
            "CRIM SEXUAL ASSAULT 3\n",
            "NARCOTICS 9\n",
            "SEX OFFENSE 14\n",
            "OFFENSE INVOLVING CHILDREN 10\n",
            "INTERFERENCE WITH PUBLIC OFFICER 7\n",
            "PROSTITUTION 11\n"
          ],
          "name": "stdout"
        }
      ]
    },
    {
      "cell_type": "code",
      "metadata": {
        "id": "-DBgk1zQj1Cv",
        "colab_type": "code",
        "colab": {}
      },
      "source": [
        ""
      ],
      "execution_count": 0,
      "outputs": []
    },
    {
      "cell_type": "code",
      "metadata": {
        "id": "lFzaSCw-j1_q",
        "colab_type": "code",
        "colab": {}
      },
      "source": [
        "  "
      ],
      "execution_count": 0,
      "outputs": []
    }
  ]
}